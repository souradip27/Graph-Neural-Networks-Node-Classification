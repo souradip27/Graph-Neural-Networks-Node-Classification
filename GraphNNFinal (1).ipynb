{
 "cells": [
  {
   "cell_type": "markdown",
   "id": "5c7c37aa",
   "metadata": {},
   "source": [
    "# Import Libraries"
   ]
  },
  {
   "cell_type": "code",
   "execution_count": 805,
   "id": "df6d0cf8",
   "metadata": {},
   "outputs": [],
   "source": [
    "import torch\n",
    "import torch.nn.functional as F\n",
    "from torch_geometric.nn import GCNConv\n",
    "from torch_geometric.nn import GATConv\n",
    "from torch_geometric.utils import from_scipy_sparse_matrix\n",
    "from torch_geometric.data import Data\n",
    "import scipy.sparse as sp\n",
    "import numpy as np\n",
    "from sklearn.decomposition import PCA\n",
    "from sklearn import preprocessing\n",
    "import scipy\n",
    "import json\n",
    "from random import shuffle\n",
    "\n",
    "from matplotlib import pyplot as plt"
   ]
  },
  {
   "cell_type": "markdown",
   "id": "6215b750",
   "metadata": {},
   "source": [
    "# Import Data"
   ]
  },
  {
   "cell_type": "code",
   "execution_count": 806,
   "id": "84dc7fd6",
   "metadata": {},
   "outputs": [],
   "source": [
    "adj = sp.load_npz('./data_2023/adj.npz')\n",
    "feat  = np.load('./data_2023/features.npy')\n",
    "labels = np.load('./data_2023/labels.npy')\n",
    "splits = json.load(open('./data_2023/splits.json'))\n",
    "idx_train, idx_test = splits['idx_train'], splits['idx_test']"
   ]
  },
  {
   "cell_type": "markdown",
   "id": "0175cbf8",
   "metadata": {},
   "source": [
    "### Label counts for trianing set"
   ]
  },
  {
   "cell_type": "code",
   "execution_count": 807,
   "id": "55b05f27",
   "metadata": {},
   "outputs": [
    {
     "name": "stdout",
     "output_type": "stream",
     "text": [
      "Label counts:\n",
      "0)  57 11.49 %\n",
      "1)  81 16.33 %\n",
      "2)  145 29.23 %\n",
      "3)  76 15.32 %\n",
      "4)  43 8.67 %\n",
      "5)  26 5.24 %\n",
      "6)  68 13.71 %\n"
     ]
    }
   ],
   "source": [
    "# The features for this data set are 0-1 features\n",
    "edge_index = from_scipy_sparse_matrix(adj)\n",
    "print(\"Label counts:\")\n",
    "for i in range(7):\n",
    "    print(\"{}) \".format(i), list(labels).count(i), round(list(labels).count(i) / labels.shape[0] * 100, 2), \"%\")"
   ]
  },
  {
   "cell_type": "markdown",
   "id": "07d97fce",
   "metadata": {},
   "source": [
    "### Identifying Data Splits"
   ]
  },
  {
   "cell_type": "code",
   "execution_count": 808,
   "id": "d77d19a7",
   "metadata": {},
   "outputs": [
    {
     "name": "stdout",
     "output_type": "stream",
     "text": [
      "torch.Size([2480])\n"
     ]
    },
    {
     "data": {
      "text/plain": [
       "Data(x=[2480, 1390], edge_index=[2, 10100], y=[2480], train_mask=[2480], test_mask=[2480], val_mask=[2480])"
      ]
     },
     "execution_count": 808,
     "metadata": {},
     "output_type": "execute_result"
    }
   ],
   "source": [
    "train_split = splits[\"idx_train\"]\n",
    "test_split = splits[\"idx_test\"]\n",
    "\n",
    "validation_split = train_split[:99]\n",
    "train_split = train_split[99:]\n",
    "\n",
    "mask_temp = np.array([])\n",
    "for i in range(feat.shape[0]):\n",
    "    if i in train_split:\n",
    "        mask_temp = np.append(mask_temp, 0)\n",
    "    elif i in test_split:\n",
    "        mask_temp = np.append(mask_temp, 1)\n",
    "    else:\n",
    "        mask_temp = np.append(mask_temp, 2)\n",
    "train_mask = (mask_temp == 0)\n",
    "test_mask = (mask_temp == 1)\n",
    "validation_mask = (mask_temp == 2)\n",
    "\n",
    "# Maybe need to change below to long\n",
    "x = torch.tensor(feat, dtype=torch.float)\n",
    "\n",
    "label_mask = []\n",
    "ind = 0\n",
    "for i in range(x.shape[0]):\n",
    "    if i in train_split or i in validation_split:\n",
    "        label_mask.append(labels[idx_train.index(i)])\n",
    "        ind += 1\n",
    "    else:\n",
    "        label_mask.append(-1)\n",
    "label_mask = torch.tensor(label_mask, dtype=torch.long)\n",
    "print(label_mask.shape)\n",
    "# train_mask = torch.tensor(train_mask, dtype=torch.bool)\n",
    "# test_mask = torch.tensor(test_mask, dtype=torch.bool)\n",
    "# validation_mask = torch.tensor(validation_mask, dtype=torch.bool)\n",
    "data = Data(x=x, edge_index=edge_index[0], y=label_mask, train_mask=train_mask, test_mask=test_mask, val_mask=validation_mask)\n",
    "data"
   ]
  },
  {
   "cell_type": "code",
   "execution_count": 809,
   "id": "d308e742",
   "metadata": {},
   "outputs": [
    {
     "name": "stdout",
     "output_type": "stream",
     "text": [
      "[False False False  True False False False False False False False False\n",
      "  True  True False False False False  True False False False False False\n",
      " False False False False  True False  True False False False False False\n",
      "  True False False False False False False False False False False False\n",
      " False False] 99 [ True  True  True False  True  True  True  True  True  True  True  True\n",
      " False False  True  True  True  True False  True  True  True  True  True\n",
      "  True  True  True  True False  True False  True  True  True  True  True\n",
      " False  True  True  True  True  True  True  True  True  True  True  True\n",
      "  True  True]\n"
     ]
    }
   ],
   "source": [
    "print(data.train_mask[:50], data.val_mask.sum(), data.test_mask[:50])"
   ]
  },
  {
   "cell_type": "code",
   "execution_count": 810,
   "id": "3de7439e",
   "metadata": {},
   "outputs": [
    {
     "data": {
      "text/plain": [
       "tensor([-1, -1, -1,  1, -1, -1, -1, -1, -1, -1, -1, -1,  6,  6, -1, -1, -1, -1,\n",
       "         0, -1, -1, -1, -1, -1, -1, -1, -1, -1,  2, -1,  4, -1, -1, -1, -1, -1,\n",
       "         3, -1, -1, -1, -1, -1, -1, -1, -1, -1, -1, -1, -1, -1])"
      ]
     },
     "execution_count": 810,
     "metadata": {},
     "output_type": "execute_result"
    }
   ],
   "source": [
    "label_mask[:50]"
   ]
  },
  {
   "cell_type": "markdown",
   "id": "e9a5bff7",
   "metadata": {},
   "source": [
    "# Construct Classifier"
   ]
  },
  {
   "cell_type": "code",
   "execution_count": 811,
   "id": "2eb5e3a4",
   "metadata": {},
   "outputs": [],
   "source": [
    "class GCNSimple(torch.nn.Module):\n",
    "    def __init__(self, num_node_features, num_hidden1, num_classes):\n",
    "        super().__init__()\n",
    "        self.conv1 = GCNConv(num_node_features, num_hidden1)\n",
    "        self.conv2 = GCNConv(num_hidden1, num_classes)\n",
    "\n",
    "    def forward(self, data):\n",
    "        x, edge_index = data.x, data.edge_index\n",
    "\n",
    "        x = self.conv1(x, edge_index)\n",
    "        x = F.relu(x)\n",
    "        x = F.dropout(x, training=self.training)\n",
    "        x = self.conv2(x, edge_index)\n",
    "\n",
    "        return F.log_softmax(x, dim=1)"
   ]
  },
  {
   "cell_type": "markdown",
   "id": "42f1cca7",
   "metadata": {},
   "source": [
    "# Training"
   ]
  },
  {
   "cell_type": "code",
   "execution_count": 812,
   "id": "a9eebf37",
   "metadata": {},
   "outputs": [
    {
     "name": "stdout",
     "output_type": "stream",
     "text": [
      "Epoch 0: 1.9486016035079956\n",
      "Epoch 10: 0.8389590382575989\n",
      "Epoch 20: 0.26699838042259216\n",
      "Epoch 30: 0.1002979725599289\n",
      "Epoch 40: 0.05385524407029152\n",
      "Epoch 50: 0.03960828855633736\n",
      "Epoch 60: 0.03611096367239952\n",
      "Epoch 70: 0.03528466075658798\n",
      "Epoch 80: 0.03429506719112396\n",
      "Epoch 90: 0.032545268535614014\n"
     ]
    }
   ],
   "source": [
    "device = torch.device('cuda' if torch.cuda.is_available() else 'cpu')\n",
    "data = data.to(device)\n",
    "model = GCNSimple(num_node_features=data.x.shape[1], \n",
    "            num_hidden1=16,\n",
    "            num_classes=(data.y.max()+1).item()\n",
    "            ).to(device)\n",
    "\n",
    "optimizer = torch.optim.Adam(model.parameters(), lr=0.01, weight_decay=5e-4)\n",
    "\n",
    "accuracies = []\n",
    "accuracies2 = []\n",
    "model.train()\n",
    "epochs = 100\n",
    "for epoch in range(epochs):\n",
    "    optimizer.zero_grad()\n",
    "    out = model(data)\n",
    "    loss = F.nll_loss(out[data.train_mask], data.y[data.train_mask])\n",
    "    loss.backward()\n",
    "    optimizer.step()\n",
    "    if epoch % 10 == 0:\n",
    "        print('Epoch {0}: {1}'.format(epoch, loss.item()))\n",
    "    \n",
    "    model.eval()\n",
    "    with torch.no_grad():\n",
    "        predictions = model(data).argmax(dim=1)\n",
    "        correct = (predictions[data.val_mask] == data.y[data.val_mask]).sum()\n",
    "        acc = int(correct) / int(data.val_mask.sum())\n",
    "        accuracies.append(acc)\n",
    "\n",
    "        predictions = model(data).argmax(dim=1)\n",
    "        correct = (predictions[data.train_mask] == data.y[data.train_mask]).sum()\n",
    "        acc = int(correct) / int(data.train_mask.sum())\n",
    "        accuracies2.append(acc)"
   ]
  },
  {
   "cell_type": "markdown",
   "id": "90ceee23",
   "metadata": {},
   "source": [
    "## Plot Accuracies"
   ]
  },
  {
   "cell_type": "code",
   "execution_count": 813,
   "id": "f870a4ff",
   "metadata": {},
   "outputs": [
    {
     "data": {
      "text/plain": [
       "<matplotlib.legend.Legend at 0x7f9f69bc7490>"
      ]
     },
     "execution_count": 813,
     "metadata": {},
     "output_type": "execute_result"
    },
    {
     "data": {
      "image/png": "[encoded data removed]",
      "text/plain": [
       "<Figure size 640x480 with 1 Axes>"
      ]
     },
     "metadata": {},
     "output_type": "display_data"
    }
   ],
   "source": [
    "plt.plot(np.arange(0,epochs,1), accuracies, label=\"Validation Accuracy\")\n",
    "plt.plot(np.arange(0,epochs,1), accuracies2, label=\"Training Accuracy\")\n",
    "plt.legend()"
   ]
  },
  {
   "cell_type": "markdown",
   "id": "f8135661",
   "metadata": {},
   "source": [
    "# Testing (Against Validation)"
   ]
  },
  {
   "cell_type": "code",
   "execution_count": 828,
   "id": "36c551e7",
   "metadata": {},
   "outputs": [
    {
     "name": "stdout",
     "output_type": "stream",
     "text": [
      "Accuracy: 0.8182\n"
     ]
    }
   ],
   "source": [
    "model.eval()\n",
    "predictions = model(data).argmax(dim=1)\n",
    "correct = (predictions[data.val_mask] == data.y[data.val_mask]).sum()\n",
    "acc = int(correct) / int(data.val_mask.sum())\n",
    "print(f'Accuracy: {acc:.4f}')"
   ]
  },
  {
   "cell_type": "markdown",
   "id": "dfb448fb",
   "metadata": {},
   "source": [
    "# Testing (Training Accuracy)"
   ]
  },
  {
   "cell_type": "code",
   "execution_count": 829,
   "id": "2ebc023e",
   "metadata": {},
   "outputs": [
    {
     "name": "stdout",
     "output_type": "stream",
     "text": [
      "Accuracy: 1.0000\n"
     ]
    }
   ],
   "source": [
    "model.eval()\n",
    "predictions = model(data).argmax(dim=1)\n",
    "correct = (predictions[data.train_mask] == data.y[data.train_mask]).sum()\n",
    "acc = int(correct) / int(data.train_mask.sum())\n",
    "print(f'Accuracy: {acc:.4f}')"
   ]
  },
  {
   "cell_type": "markdown",
   "id": "dd85a69b",
   "metadata": {},
   "source": [
    "### Testing Label Counts"
   ]
  },
  {
   "cell_type": "code",
   "execution_count": 816,
   "id": "81a4c29f",
   "metadata": {},
   "outputs": [
    {
     "name": "stdout",
     "output_type": "stream",
     "text": [
      "Label counts:\n",
      "0)  287 11.57 %\n",
      "1)  419 16.9 %\n",
      "2)  718 28.95 %\n",
      "3)  339 13.67 %\n",
      "4)  195 7.86 %\n",
      "5)  132 5.32 %\n",
      "6)  390 15.73 %\n"
     ]
    }
   ],
   "source": [
    "print(\"Label counts:\")\n",
    "for i in range(7):\n",
    "    print(\"{}) \".format(i), list(predictions).count(i), round(list(predictions).count(i) / predictions.shape[0] * 100, 2), \"%\")"
   ]
  },
  {
   "cell_type": "code",
   "execution_count": 826,
   "id": "f2a3ce23",
   "metadata": {},
   "outputs": [
    {
     "data": {
      "text/plain": [
       "tensor([2, 3, 6, 2, 3, 4, 5, 0, 6, 1, 2, 1, 5, 2, 3, 2, 2, 5, 0, 3, 6, 6, 0, 5,\n",
       "        0, 3, 2, 0, 3, 1, 2, 3, 1, 2, 2, 2, 3, 2, 3, 1, 1, 5, 2, 1, 4, 1, 2, 2,\n",
       "        2, 6, 6, 1, 1, 4, 1, 3, 3, 3, 0, 6, 3, 2, 5, 2, 2, 2, 1, 3, 1, 4, 4, 2,\n",
       "        1, 1, 1, 0, 2, 2, 2, 2, 2, 6, 3, 1, 2, 0, 1, 2, 1, 4, 6, 5, 0, 5, 1, 0,\n",
       "        2, 6, 0])"
      ]
     },
     "execution_count": 826,
     "metadata": {},
     "output_type": "execute_result"
    }
   ],
   "source": [
    "predictions[idx_train][:99]"
   ]
  },
  {
   "cell_type": "code",
   "execution_count": 824,
   "id": "4d5166dc",
   "metadata": {},
   "outputs": [
    {
     "data": {
      "text/plain": [
       "array([6, 3, 6, 2, 3, 4, 5, 0, 6, 1, 2, 1, 5, 6, 3, 2, 2, 5, 0, 3, 6, 2,\n",
       "       0, 0, 0, 3, 4, 0, 6, 1, 2, 3, 1, 2, 2, 2, 3, 6, 3, 1, 1, 6, 2, 1,\n",
       "       4, 1, 2, 2, 2, 6, 6, 2, 1, 4, 1, 3, 3, 3, 0, 5, 3, 2, 0, 2, 2, 2,\n",
       "       1, 3, 1, 4, 4, 2, 1, 1, 1, 0, 4, 2, 2, 2, 2, 3, 3, 1, 2, 4, 1, 2,\n",
       "       1, 4, 3, 5, 0, 6, 1, 0, 2, 2, 6], dtype=int8)"
      ]
     },
     "execution_count": 824,
     "metadata": {},
     "output_type": "execute_result"
    }
   ],
   "source": [
    "labels[:99]"
   ]
  },
  {
   "cell_type": "markdown",
   "id": "c9bd62ff",
   "metadata": {},
   "source": [
    "# Submit"
   ]
  },
  {
   "cell_type": "code",
   "execution_count": 830,
   "id": "a5f79f86",
   "metadata": {},
   "outputs": [
    {
     "name": "stdout",
     "output_type": "stream",
     "text": [
      "torch.Size([1984])\n"
     ]
    }
   ],
   "source": [
    "test_predictions = predictions[idx_test]\n",
    "print(test_predictions.shape)\n",
    "np.savetxt(\"submission.txt\", test_predictions, fmt='%d')"
   ]
  },
  {
   "cell_type": "markdown",
   "id": "0ca9bb77",
   "metadata": {},
   "source": [
    "## Misc."
   ]
  },
  {
   "cell_type": "code",
   "execution_count": 203,
   "id": "05819cd3",
   "metadata": {},
   "outputs": [
    {
     "name": "stdout",
     "output_type": "stream",
     "text": [
      "18.09\n"
     ]
    }
   ],
   "source": [
    "# Evaluate similarity of submissions\n",
    "with open('submission.txt', 'r') as current, open('submissionv1.txt', 'r') as previous:\n",
    "    current_predictions = [line.rstrip() for line in current]\n",
    "    previous_predictions = [line.rstrip() for line in previous]\n",
    "    similarity = sum([a == b for a, b in zip(current_predictions, previous_predictions)]) / len(current_predictions)\n",
    "    similarity = round(similarity * 100, 2)\n",
    "    \n",
    "print(similarity)"
   ]
  },
  {
   "cell_type": "code",
   "execution_count": null,
   "id": "fee5bd16",
   "metadata": {},
   "outputs": [],
   "source": [
    "class GCN(torch.nn.Module):\n",
    "    def __init__(self, num_node_features, num_hidden1, num_hidden2, num_hidden3, num_hidden4, num_hidden5, num_classes, prob=0.5):\n",
    "        super().__init__()\n",
    "        self.conv1 = GCNConv(num_node_features, num_hidden1)\n",
    "        self.conv2 = GCNConv(num_hidden1, num_hidden2)\n",
    "        self.conv3 = GCNConv(num_hidden2, num_hidden3)\n",
    "        self.conv4 = GCNConv(num_hidden3, num_hidden4)\n",
    "        self.conv5 = GCNConv(num_hidden4, num_hidden5)\n",
    "        self.conv6 = GCNConv(num_hidden5, num_classes)\n",
    "        self.prob = prob\n",
    "\n",
    "    def forward(self, data):\n",
    "        x, edge_index = data.x, data.edge_index\n",
    "\n",
    "        x = self.conv1(x, edge_index)\n",
    "        x = F.relu(x)\n",
    "        x = F.dropout(x, self.prob)\n",
    "        x = self.conv2(x, edge_index)\n",
    "        x = F.relu(x)\n",
    "        x = F.dropout(x, self.prob)\n",
    "        x = self.conv3(x, edge_index)\n",
    "        x = F.relu(x)\n",
    "        x = F.dropout(x, self.prob)\n",
    "        x = self.conv4(x, edge_index)\n",
    "        x = F.relu(x)\n",
    "        x = F.dropout(x, self.prob)\n",
    "        x = self.conv5(x, edge_index)\n",
    "        x = F.relu(x)\n",
    "        x = F.dropout(x, self.prob)\n",
    "        x = self.conv6(x, edge_index)\n",
    "\n",
    "        return F.log_softmax(x, dim=1)"
   ]
  },
  {
   "cell_type": "code",
   "execution_count": null,
   "id": "7ab58b7e",
   "metadata": {},
   "outputs": [],
   "source": [
    "class GAT(torch.nn.Module):\n",
    "    def __init__(self, num_node_features, num_hidden1, num_hidden2, num_hidden3, num_hidden4, num_hidden5, num_classes, prob=0.5):\n",
    "        super().__init__()\n",
    "        self.conv1 = GATConv(num_node_features, num_hidden1)\n",
    "        self.conv2 = GATConv(num_hidden1, num_hidden2)\n",
    "        self.conv3 = GATConv(num_hidden2, num_hidden3)\n",
    "        self.conv4 = GATConv(num_hidden3, num_hidden4)\n",
    "        self.conv5 = GCNConv(num_hidden4, num_hidden5)\n",
    "        self.conv6 = GCNConv(num_hidden5, num_classes)\n",
    "        self.prob = prob\n",
    "\n",
    "    def forward(self, data):\n",
    "        x, edge_index = data.x, data.edge_index\n",
    "\n",
    "        x = self.conv1(x, edge_index)\n",
    "        x = F.relu(x)\n",
    "        x = F.dropout(x, self.prob)\n",
    "        x = self.conv2(x, edge_index)\n",
    "        x = F.relu(x)\n",
    "        x = F.dropout(x, self.prob)\n",
    "        x = self.conv3(x, edge_index)\n",
    "        x = F.relu(x)\n",
    "        x = F.dropout(x, self.prob)\n",
    "        x = self.conv4(x, edge_index)\n",
    "        x = F.relu(x)\n",
    "        x = F.dropout(x, self.prob)\n",
    "        x = self.conv5(x, edge_index)\n",
    "        x = F.relu(x)\n",
    "        x = F.dropout(x, self.prob)\n",
    "        x = self.conv6(x, edge_index)\n",
    "\n",
    "        return F.log_softmax(x, dim=1)"
   ]
  },
  {
   "cell_type": "code",
   "execution_count": null,
   "id": "94ac5d15",
   "metadata": {},
   "outputs": [],
   "source": [
    "device = torch.device('cuda' if torch.cuda.is_available() else 'cpu')\n",
    "data = data.to(device)\n",
    "model = GCNSimple(num_node_features=data.x.shape[1], \n",
    "            num_hidden1=16,\n",
    "            num_classes=(data.y.max()+1).item()\n",
    "            ).to(device)\n",
    "\n",
    "optimizer = torch.optim.Adam(model.parameters(), lr=0.01, weight_decay=5e-4)\n",
    "# learn_rate = 0.0101\n",
    "\n",
    "accuracies = []\n",
    "accuracies2 = []\n",
    "model.train()\n",
    "epochs = 100\n",
    "for epoch in range(epochs):\n",
    "    optimizer.zero_grad()\n",
    "    out = model(data)\n",
    "    loss = F.nll_loss(out[data.train_mask], data.y[data.train_mask])\n",
    "    loss.backward()\n",
    "    optimizer.step()\n",
    "    if epoch % 10 == 0:\n",
    "        print('Epoch {0}: {1}'.format(epoch, loss.item()))\n",
    "    \n",
    "    model.eval()\n",
    "    with torch.no_grad():\n",
    "        predictions = model(data).argmax(dim=1)\n",
    "        correct = (predictions[data.val_mask] == data.y[data.val_mask]).sum()\n",
    "        acc = int(correct) / int(data.val_mask.sum())\n",
    "        accuracies.append(acc)\n",
    "\n",
    "        predictions = model(data).argmax(dim=1)\n",
    "        correct = (predictions[data.train_mask] == data.y[data.train_mask]).sum()\n",
    "        acc = int(correct) / int(data.train_mask.sum())\n",
    "        accuracies2.append(acc)\n",
    "    \n",
    "# runtimes = {}\n",
    "# for size in range(0, 1000, 50):\n",
    "#     model = GCNSimple(num_node_features=data.x.shape[1], \n",
    "#             num_hidden1=500,\n",
    "#             num_classes=int((data.y.max()+1).item())\n",
    "#            ).to(device)\n",
    "#     for epoch in range(epochs):\n",
    "#     #     learn_rate -= 0.00005\n",
    "#     #     optimizer = torch.optim.Adam(model.parameters(), lr=0.01, weight_decay=5e-4)\n",
    "#         optimizer.zero_grad()\n",
    "#         out = model(data)\n",
    "#         # Negative log likelihood loss\n",
    "#     #     print(out[data.train_mask], out[data.train_mask].shape)\n",
    "#     #     print(data.y, data.y.shape)\n",
    "#         loss = F.nll_loss(out[data.train_mask], data.y[99:].long())\n",
    "#         loss.backward()\n",
    "#         optimizer.step()\n",
    "#         if epoch % 10 == 0:\n",
    "#             print('Epoch {0}: {1}'.format(epoch, loss.item()))\n",
    "\n",
    "#         model.eval()\n",
    "#         predictions = model(data).argmax(dim=1)\n",
    "#         correct = (predictions[data.val_mask] == data.y[:99]).sum()\n",
    "#         acc = int(correct) / int(data.val_mask.sum())\n",
    "#         if size in runtimes:\n",
    "#             runtimes[size].append(acc)\n",
    "#         else:\n",
    "#             runtimes[size] = [acc]\n",
    "    \n",
    "#     predictions = model(data).argmax(dim=1)\n",
    "#     correct = (predictions[data.train_mask] == data.y[99:]).sum()\n",
    "#     acc = int(correct) / int(data.train_mask.sum())\n",
    "#     accuracies2.append(acc)"
   ]
  }
 ],
 "metadata": {
  "kernelspec": {
   "display_name": "Python 3 (ipykernel)",
   "language": "python",
   "name": "python3"
  },
  "language_info": {
   "codemirror_mode": {
    "name": "ipython",
    "version": 3
   },
   "file_extension": ".py",
   "mimetype": "text/x-python",
   "name": "python",
   "nbconvert_exporter": "python",
   "pygments_lexer": "ipython3",
   "version": "3.9.13"
  }
 },
 "nbformat": 4,
 "nbformat_minor": 5
}
